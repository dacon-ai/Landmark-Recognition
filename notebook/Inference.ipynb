{
 "cells": [
  {
   "cell_type": "code",
   "execution_count": 1,
   "metadata": {},
   "outputs": [],
   "source": [
    "%load_ext autoreload\n",
    "%autoreload 2"
   ]
  },
  {
   "cell_type": "code",
   "execution_count": 2,
   "metadata": {},
   "outputs": [
    {
     "name": "stdout",
     "output_type": "stream",
     "text": [
      "/home/dacon/Dacon/HDD_02/landmark/src\n"
     ]
    }
   ],
   "source": [
    "cd ../src/"
   ]
  },
  {
   "cell_type": "code",
   "execution_count": 3,
   "metadata": {},
   "outputs": [
    {
     "name": "stdout",
     "output_type": "stream",
     "text": [
      "1 Physical GPUs, 1 Logical GPUs\n",
      "Setting strategy to OneDeviceStrategy(device='GPU')\n"
     ]
    }
   ],
   "source": [
    "import numpy as np\n",
    "import tensorflow as tf\n",
    "import math\n",
    "import pandas as pd\n",
    "from sklearn import model_selection\n",
    "import glob\n",
    "import os\n",
    "from zipfile import ZipFile\n",
    "import shutil\n",
    "import tqdm as tqdm\n",
    "import random\n",
    "\n",
    "import logging\n",
    "tf.get_logger().setLevel(logging.ERROR)\n",
    "import warnings\n",
    "warnings.filterwarnings(\"ignore\")\n",
    "\n",
    "from utils.utils import *\n",
    "from dataset.dataset import *\n",
    "from model.model import *\n",
    "\n",
    "os.environ[\"CUDA_VISIBLE_DEVICES\"]=\"1\"\n",
    "gpus = tf.config.experimental.list_physical_devices('GPU')\n",
    "num_gpus = len(gpus)\n",
    "if gpus:\n",
    "    try:\n",
    "        for gpu in gpus:\n",
    "            tf.config.experimental.set_memory_growth(gpu, True)\n",
    "        logical_gpus = tf.config.experimental.list_logical_devices('GPU')\n",
    "        print(num_gpus, \"Physical GPUs,\", len(logical_gpus), \"Logical GPUs\")\n",
    "    except RuntimeError as e:\n",
    "        print(e)\n",
    "\n",
    "#     policy = tf.keras.mixed_precision.experimental.Policy('mixed_float16')\n",
    "#     tf.keras.mixed_precision.experimental.set_policy(policy)\n",
    "#     print('Compute dtype: %s' % policy.compute_dtype)\n",
    "#     print('Variable dtype: %s' % policy.variable_dtype)\n",
    "\n",
    "    \n",
    "if num_gpus == 0:\n",
    "    strategy = tf.distribute.OneDeviceStrategy(device='CPU')\n",
    "    print(\"Setting strategy to OneDeviceStrategy(device='CPU')\")\n",
    "elif num_gpus == 1:\n",
    "    strategy = tf.distribute.OneDeviceStrategy(device='GPU')\n",
    "    print(\"Setting strategy to OneDeviceStrategy(device='GPU')\")\n",
    "else:\n",
    "    strategy = tf.distribute.MirroredStrategy()\n",
    "    print(\"Setting strategy to MirroredStrategy()\")"
   ]
  },
  {
   "cell_type": "code",
   "execution_count": 10,
   "metadata": {},
   "outputs": [],
   "source": [
    "input_path = '../data/train/'\n",
    "query = '*/*.jpg'\n",
    "file_name = '../data/train_labels_0.csv'\n",
    "train_df, mapping = read_train_file(input_path, file_name, query)\n",
    "file_name = '../data/test_labels_0.csv'\n",
    "submission_df = read_submission_file(input_path, file_name, query, train=True)"
   ]
  },
  {
   "cell_type": "code",
   "execution_count": 5,
   "metadata": {},
   "outputs": [],
   "source": [
    "config = {\n",
    "    'learning_rate': 1e-3,\n",
    "    'momentum': 0.9,\n",
    "    'scale': 30,\n",
    "    'margin': 0.1,\n",
    "    'clip_grad': 10.0,\n",
    "    'n_epochs': 50,\n",
    "    'batch_size': 256,\n",
    "    'input_size': (224, 224, 3),\n",
    "    'n_classes': len(train_df['label'].unique()),\n",
    "    'dense_units': 512,\n",
    "    'dropout_rate': 0.0,\n",
    "    'save_interval': 50,\n",
    "    'wandb':False\n",
    "    }"
   ]
  },
  {
   "cell_type": "code",
   "execution_count": 7,
   "metadata": {},
   "outputs": [],
   "source": [
    "test_ds = create_dataset(\n",
    "        df=submission_df,\n",
    "        training=False,\n",
    "        batch_size=config['batch_size'],\n",
    "        input_size=config['input_size'],\n",
    "    )"
   ]
  },
  {
   "cell_type": "code",
   "execution_count": 8,
   "metadata": {},
   "outputs": [
    {
     "name": "stderr",
     "output_type": "stream",
     "text": [
      "397it [01:10,  5.60it/s]\n"
     ]
    }
   ],
   "source": [
    "with strategy.scope():\n",
    "    optimizer = tf.keras.optimizers.SGD(config['learning_rate'], momentum=config['momentum'])\n",
    "\n",
    "    dist_model = DistributedModel(\n",
    "        input_size=config['input_size'],\n",
    "        n_classes=config['n_classes'],\n",
    "        batch_size=config['batch_size'],\n",
    "        finetuned_weights='./checkpoint/checkpoint',\n",
    "        dense_units=config['dense_units'],\n",
    "        dropout_rate=config['dropout_rate'],\n",
    "        scale=config['scale'],\n",
    "        margin=config['margin'],\n",
    "        optimizer=optimizer,\n",
    "        strategy=strategy,\n",
    "        mixed_precision=False,\n",
    "        clip_grad=config['clip_grad'],\n",
    "        wandb_log=config['wandb'])\n",
    "    \n",
    "    preds, confs = dist_model.predict(test_ds=test_ds)"
   ]
  },
  {
   "cell_type": "code",
   "execution_count": 11,
   "metadata": {},
   "outputs": [],
   "source": [
    "for i, (pred, conf) in enumerate(zip(preds, confs)):\n",
    "    submission_df.at[i, 'landmark_id'] = f'{mapping[pred]}'\n",
    "    submission_df.at[i, 'conf'] = f'{conf}'\n",
    "\n",
    "submission_df = submission_df.drop('label', axis=1)\n",
    "submission_df = submission_df.drop('prob', axis=1)\n",
    "submission_df = submission_df.drop('path', axis=1)\n",
    "submission_df = submission_df[submission_df.columns[[0, 1, 4]]]\n",
    "submission_df.to_csv('submission.csv', index=False)  "
   ]
  },
  {
   "cell_type": "code",
   "execution_count": null,
   "metadata": {},
   "outputs": [],
   "source": []
  }
 ],
 "metadata": {
  "kernelspec": {
   "display_name": "landmark",
   "language": "python",
   "name": "landmark"
  },
  "language_info": {
   "codemirror_mode": {
    "name": "ipython",
    "version": 3
   },
   "file_extension": ".py",
   "mimetype": "text/x-python",
   "name": "python",
   "nbconvert_exporter": "python",
   "pygments_lexer": "ipython3",
   "version": "3.7.9"
  }
 },
 "nbformat": 4,
 "nbformat_minor": 4
}
