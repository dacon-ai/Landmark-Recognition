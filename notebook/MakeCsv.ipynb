{
 "cells": [
  {
   "cell_type": "code",
   "execution_count": 1,
   "metadata": {},
   "outputs": [],
   "source": [
    "import os\n",
    "import random\n",
    "import numpy as np\n",
    "import pandas as pd\n",
    "import seaborn as sns\n",
    "import matplotlib.pyplot as plt\n",
    "\n",
    "\n",
    "from tqdm import tqdm\n",
    "from glob import glob\n",
    "\n",
    "from sklearn.model_selection import KFold"
   ]
  },
  {
   "cell_type": "code",
   "execution_count": 2,
   "metadata": {},
   "outputs": [],
   "source": [
    "configs = {\n",
    "    'DATA_DIR': '../data/train', \n",
    "    'ROOT_DIR': '../',\n",
    "    'fold': [0, 1, 2, 3, 4],\n",
    "    'seed': 2021,\n",
    "}\n",
    "query = '*/*.jpg'"
   ]
  },
  {
   "cell_type": "code",
   "execution_count": 3,
   "metadata": {},
   "outputs": [],
   "source": [
    "def seed_everything(seed):\n",
    "    \"\"\"\n",
    "    Seeds basic parameters for reproductibility of results.\n",
    "\n",
    "    Args:\n",
    "        seed (int): Number of the seed.\n",
    "    \"\"\"\n",
    "    random.seed(seed)\n",
    "    os.environ[\"PYTHONHASHSEED\"] = str(seed)\n",
    "    np.random.seed(seed)\n",
    "#     torch.manual_seed(seed)\n",
    "#     torch.cuda.manual_seed(seed)\n",
    "#     torch.backends.cudnn.deterministic = True\n",
    "#     torch.backends.cudnn.benchmark = True\n",
    "\n",
    "seed_everything(configs['seed'])"
   ]
  },
  {
   "cell_type": "code",
   "execution_count": 4,
   "metadata": {},
   "outputs": [],
   "source": [
    "def read_image_file(input_path, query):\n",
    "    file_paths = sorted(glob(os.path.join(input_path, query)))\n",
    "    return file_paths"
   ]
  },
  {
   "cell_type": "code",
   "execution_count": 5,
   "metadata": {},
   "outputs": [],
   "source": [
    "def get_class_lists(file_paths):\n",
    "    class_lists = set([file_paths[i].split('/')[-2] for i in range(len(file_paths))])\n",
    "    return list(class_lists)"
   ]
  },
  {
   "cell_type": "code",
   "execution_count": 6,
   "metadata": {},
   "outputs": [],
   "source": [
    "def generate_dict(file_paths, classes):\n",
    "    ids = []\n",
    "    landmark_ids = []\n",
    "    path = []\n",
    "    for i in tqdm(range(len(file_paths))):\n",
    "        try:\n",
    "            landmark_ids.append(classes.index(file_paths[i].split('/')[-2]))\n",
    "            ids.append(file_paths[i].split('/')[-1][:-4])\n",
    "            path.append(file_paths[i])\n",
    "        except:\n",
    "            pass\n",
    "\n",
    "\n",
    "    gen_dict = {'id': ids,\n",
    "             'landmark_id': landmark_ids,\n",
    "             'path': path}    \n",
    "    return gen_dict"
   ]
  },
  {
   "cell_type": "code",
   "execution_count": 7,
   "metadata": {},
   "outputs": [],
   "source": [
    "train_file_paths = read_image_file(configs['DATA_DIR'], query)\n",
    "classes = get_class_lists(train_file_paths)"
   ]
  },
  {
   "cell_type": "code",
   "execution_count": 8,
   "metadata": {},
   "outputs": [
    {
     "name": "stdout",
     "output_type": "stream",
     "text": [
      "Total num of data: 507930\n",
      "Total num of classes: 2503\n"
     ]
    }
   ],
   "source": [
    "print(f\"Total num of data: {len(train_file_paths)}\")\n",
    "print(f\"Total num of classes: {len(classes)}\")"
   ]
  },
  {
   "cell_type": "markdown",
   "metadata": {},
   "source": [
    "## train"
   ]
  },
  {
   "cell_type": "code",
   "execution_count": 9,
   "metadata": {},
   "outputs": [
    {
     "name": "stderr",
     "output_type": "stream",
     "text": [
      "100%|██████████| 507930/507930 [00:08<00:00, 57500.20it/s]\n"
     ]
    }
   ],
   "source": [
    "train_df = generate_dict(train_file_paths, classes)"
   ]
  },
  {
   "cell_type": "code",
   "execution_count": 11,
   "metadata": {},
   "outputs": [],
   "source": [
    "train_df = pd.DataFrame(train_df)"
   ]
  },
  {
   "cell_type": "code",
   "execution_count": 13,
   "metadata": {},
   "outputs": [
    {
     "name": "stdout",
     "output_type": "stream",
     "text": [
      "number of classes : 2503\n"
     ]
    }
   ],
   "source": [
    "print(f\"number of classes : {len(train_df['landmark_id'].unique())}\")"
   ]
  },
  {
   "cell_type": "code",
   "execution_count": 16,
   "metadata": {},
   "outputs": [],
   "source": [
    "kfold = KFold(n_splits=len(configs['fold']), random_state=configs['seed'], shuffle=True)\n",
    "kfold.get_n_splits(train_df)\n",
    "\n",
    "for i, (train_index, test_index) in enumerate(kfold.split(train_df)):\n",
    "    train_df.loc[test_index, 'val_idx'] = i"
   ]
  },
  {
   "cell_type": "code",
   "execution_count": 17,
   "metadata": {},
   "outputs": [
    {
     "name": "stdout",
     "output_type": "stream",
     "text": [
      "0\n",
      "train_df: 406344\n",
      "test_df: 101586\n",
      "1\n",
      "train_df: 406344\n",
      "test_df: 101586\n",
      "2\n",
      "train_df: 406344\n",
      "test_df: 101586\n",
      "3\n",
      "train_df: 406344\n",
      "test_df: 101586\n",
      "4\n",
      "train_df: 406344\n",
      "test_df: 101586\n"
     ]
    }
   ],
   "source": [
    "for fold in configs['fold']:\n",
    "    print(fold)\n",
    "    train_df_fold = train_df.loc[train_df['val_idx'] != fold].reset_index(drop=True)\n",
    "    test_df = train_df.loc[train_df['val_idx'] == fold].reset_index(drop=True)\n",
    "    \n",
    "    train_df_fold.to_csv(configs['ROOT_DIR'] + f'train_labels_{fold}.csv', index=False)\n",
    "    test_df.to_csv(configs['ROOT_DIR'] + f'test_labels_{fold}.csv', index=False)\n",
    "    \n",
    "    print(f'train_df: {len(train_df_fold)}')\n",
    "    print(f'test_df: {len(test_df)}')\n",
    "train_df.to_csv(configs['ROOT_DIR'] + f'train_labels_fold.csv', index=False)"
   ]
  },
  {
   "cell_type": "code",
   "execution_count": 18,
   "metadata": {},
   "outputs": [],
   "source": [
    "train = pd.read_csv('../train_labels_2.csv')\n",
    "test = pd.read_csv('../test_labels_2.csv')"
   ]
  },
  {
   "cell_type": "code",
   "execution_count": 19,
   "metadata": {},
   "outputs": [
    {
     "name": "stdout",
     "output_type": "stream",
     "text": [
      "2503\n",
      "2503\n"
     ]
    }
   ],
   "source": [
    "print(len(train['landmark_id'].unique()))\n",
    "print(len(test['landmark_id'].unique()))"
   ]
  },
  {
   "cell_type": "markdown",
   "metadata": {},
   "source": [
    "## EDA"
   ]
  },
  {
   "cell_type": "code",
   "execution_count": 21,
   "metadata": {},
   "outputs": [
    {
     "name": "stdout",
     "output_type": "stream",
     "text": [
      "2503\n"
     ]
    }
   ],
   "source": [
    "print(len(train_df['landmark_id'].unique()))"
   ]
  },
  {
   "cell_type": "code",
   "execution_count": 22,
   "metadata": {},
   "outputs": [
    {
     "name": "stderr",
     "output_type": "stream",
     "text": [
      "/home/dacon/anaconda3/envs/landmark/lib/python3.7/site-packages/seaborn/distributions.py:2557: FutureWarning: `distplot` is a deprecated function and will be removed in a future version. Please adapt your code to use either `displot` (a figure-level function with similar flexibility) or `histplot` (an axes-level function for histograms).\n",
      "  warnings.warn(msg, FutureWarning)\n"
     ]
    },
    {
     "data": {
      "text/plain": [
       "<AxesSubplot:xlabel='landmark_id', ylabel='Density'>"
      ]
     },
     "execution_count": 22,
     "metadata": {},
     "output_type": "execute_result"
    },
    {
     "data": {
      "image/png": "[encoded data removed]",
      "text/plain": [
       "<Figure size 432x288 with 1 Axes>"
      ]
     },
     "metadata": {
      "needs_background": "light"
     },
     "output_type": "display_data"
    }
   ],
   "source": [
    "sns.distplot(train_df['landmark_id'])"
   ]
  },
  {
   "cell_type": "code",
   "execution_count": 23,
   "metadata": {},
   "outputs": [
    {
     "name": "stderr",
     "output_type": "stream",
     "text": [
      "/home/dacon/anaconda3/envs/landmark/lib/python3.7/site-packages/seaborn/distributions.py:2557: FutureWarning: `distplot` is a deprecated function and will be removed in a future version. Please adapt your code to use either `displot` (a figure-level function with similar flexibility) or `histplot` (an axes-level function for histograms).\n",
      "  warnings.warn(msg, FutureWarning)\n"
     ]
    },
    {
     "data": {
      "text/plain": [
       "<AxesSubplot:xlabel='landmark_id', ylabel='Density'>"
      ]
     },
     "execution_count": 23,
     "metadata": {},
     "output_type": "execute_result"
    },
    {
     "data": {
      "image/png": "[encoded data removed]",
      "text/plain": [
       "<Figure size 432x288 with 1 Axes>"
      ]
     },
     "metadata": {
      "needs_background": "light"
     },
     "output_type": "display_data"
    }
   ],
   "source": [
    "sns.distplot(test_df['landmark_id'])"
   ]
  }
 ],
 "metadata": {
  "kernelspec": {
   "display_name": "landmark",
   "language": "python",
   "name": "landmark"
  },
  "language_info": {
   "codemirror_mode": {
    "name": "ipython",
    "version": 3
   },
   "file_extension": ".py",
   "mimetype": "text/x-python",
   "name": "python",
   "nbconvert_exporter": "python",
   "pygments_lexer": "ipython3",
   "version": "3.7.9"
  }
 },
 "nbformat": 4,
 "nbformat_minor": 4
}
