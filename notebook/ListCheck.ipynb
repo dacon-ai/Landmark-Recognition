{
 "cells": [
  {
   "cell_type": "markdown",
   "metadata": {},
   "source": [
    "## File_list_Check\n",
    "학습용 데이터가 있는 폴더의 파일 개수를 확인합니다."
   ]
  },
  {
   "cell_type": "code",
   "execution_count": 1,
   "metadata": {},
   "outputs": [],
   "source": [
    "import pandas as pd\n",
    "import os\n",
    "from glob import glob"
   ]
  },
  {
   "cell_type": "code",
   "execution_count": 2,
   "metadata": {},
   "outputs": [],
   "source": [
    "def search(dirname, query):\n",
    "    filenames = glob(dirname + query)\n",
    "    return filenames"
   ]
  },
  {
   "cell_type": "code",
   "execution_count": 3,
   "metadata": {},
   "outputs": [],
   "source": [
    "DIR_NAME = '../data'\n",
    "QUERY = ['/*.JPG', '/*/*.JPG', '/*/*/*.JPG', '/*/*/*/*.JPG', '/*/*/*/*/*.JPG', '/*/*.jpg', '/*/*/*.jpg', '/*/*/*/*.jpg', '/*/*/*/*/*.jpg', '/*/*/*/*/*/*.jpg']"
   ]
  },
  {
   "cell_type": "code",
   "execution_count": 4,
   "metadata": {},
   "outputs": [
    {
     "name": "stdout",
     "output_type": "stream",
     "text": [
      "0\n",
      "0\n",
      "0\n",
      "0\n",
      "0\n",
      "0\n",
      "507930\n",
      "0\n",
      "0\n",
      "0\n",
      "Total num of files : 507930\n"
     ]
    }
   ],
   "source": [
    "num = 0\n",
    "for query in QUERY:\n",
    "    file_names = search(DIR_NAME, query)\n",
    "    num += len(file_names)\n",
    "    print(len(file_names))\n",
    "\n",
    "print(f'Total num of files : {num}')"
   ]
  },
  {
   "cell_type": "markdown",
   "metadata": {},
   "source": [
    "## Class_list_Check\n",
    "학습용 데이터가 있는 폴더(클래스)의 개수를 확인합니다."
   ]
  },
  {
   "cell_type": "code",
   "execution_count": 5,
   "metadata": {},
   "outputs": [
    {
     "name": "stdout",
     "output_type": "stream",
     "text": [
      "Total num of classes : 2503\n"
     ]
    }
   ],
   "source": [
    "classes = len(os.listdir(DIR_NAME + '/train'))\n",
    "print(f'Total num of classes : {classes}') "
   ]
  },
  {
   "cell_type": "code",
   "execution_count": null,
   "metadata": {},
   "outputs": [],
   "source": []
  }
 ],
 "metadata": {
  "kernelspec": {
   "display_name": "nfl",
   "language": "python",
   "name": "nfl"
  },
  "language_info": {
   "codemirror_mode": {
    "name": "ipython",
    "version": 3
   },
   "file_extension": ".py",
   "mimetype": "text/x-python",
   "name": "python",
   "nbconvert_exporter": "python",
   "pygments_lexer": "ipython3",
   "version": "3.7.9"
  }
 },
 "nbformat": 4,
 "nbformat_minor": 4
}
